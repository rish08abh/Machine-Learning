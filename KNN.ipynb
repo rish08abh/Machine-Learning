{
 "cells": [
  {
   "cell_type": "code",
   "execution_count": 7,
   "metadata": {},
   "outputs": [],
   "source": [
    "from sklearn.neighbors import KNeighborsClassifier\n",
    "from sklearn.metrics import accuracy_score\n",
    "import matplotlib.pyplot as plt\n",
    "from sklearn.model_selection import train_test_split\n",
    "from sklearn.datasets import load_iris"
   ]
  },
  {
   "cell_type": "code",
   "execution_count": 16,
   "metadata": {},
   "outputs": [
    {
     "name": "stdout",
     "output_type": "stream",
     "text": [
      "1. to enter value of k between 2-5\n",
      "2. to stop\n",
      "press either 1 or 0::1\n",
      "enter the value of k::2\n",
      "press either 1 or 0::1\n",
      "enter the value of k::3\n",
      "press either 1 or 0::1\n",
      "enter the value of k::4\n",
      "press either 1 or 0::0\n",
      "[2, 3, 4]\n",
      "[0.95, 0.9833333333333333, 0.9666666666666667]\n"
     ]
    },
    {
     "data": {
      "image/png": "[encoded data removed]",
      "text/plain": [
       "<Figure size 432x288 with 1 Axes>"
      ]
     },
     "metadata": {},
     "output_type": "display_data"
    }
   ],
   "source": [
    "iris=load_iris()\n",
    "\n",
    "data=iris.data\n",
    "target=iris.target\n",
    "\n",
    "train_data,test_data,train_target,test_target=train_test_split(data,target,test_size=0.4,shuffle=True)\n",
    "\n",
    "menu=\"1. to enter value of k between 2-5\\n\"+\"2. to stop\"\n",
    "\n",
    "choice=True\n",
    "accuracy_list=[]\n",
    "k_values=[]\n",
    "\n",
    "print(menu)\n",
    "\n",
    "\n",
    "while choice!=False:\n",
    "    cho=int(input(\"press either 1 or 0::\"))\n",
    "    if cho==0:\n",
    "        choice=False\n",
    "    else:\n",
    "        kk=int(input(\"enter the value of k::\"))\n",
    "        k_values.append(kk)\n",
    "        \n",
    "        clf=KNeighborsClassifier(n_neighbors=kk)\n",
    "        training=clf.fit(train_data,train_target)\n",
    "        \n",
    "        output=training.predict(test_data)\n",
    "        accuracy_list.append(accuracy_score(test_target,output))\n",
    "\n",
    "\n",
    "print(k_values)\n",
    "print(accuracy_list)\n",
    "\n",
    "plt.plot(k_values,accuracy_list,color=\"blue\")\n",
    "plt.xlabel(\"values of k\")\n",
    "plt.ylabel(\"output percentage\")\n",
    "plt.show()\n",
    "    "
   ]
  },
  {
   "cell_type": "code",
   "execution_count": null,
   "metadata": {},
   "outputs": [],
   "source": []
  },
  {
   "cell_type": "code",
   "execution_count": null,
   "metadata": {},
   "outputs": [],
   "source": []
  }
 ],
 "metadata": {
  "kernelspec": {
   "display_name": "Python 3",
   "language": "python",
   "name": "python3"
  },
  "language_info": {
   "codemirror_mode": {
    "name": "ipython",
    "version": 3
   },
   "file_extension": ".py",
   "mimetype": "text/x-python",
   "name": "python",
   "nbconvert_exporter": "python",
   "pygments_lexer": "ipython3",
   "version": "3.5.2"
  }
 },
 "nbformat": 4,
 "nbformat_minor": 2
}
