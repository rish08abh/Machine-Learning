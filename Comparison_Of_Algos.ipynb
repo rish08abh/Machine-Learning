{
 "cells": [
  {
   "cell_type": "code",
   "execution_count": 1,
   "metadata": {},
   "outputs": [],
   "source": [
    "from sklearn import datasets\n",
    "from sklearn import tree\n",
    "from sklearn.neighbors import KNeighborsClassifier\n",
    "from sklearn.metrics import accuracy_score\n",
    "from sklearn.model_selection import train_test_split\n",
    "import matplotlib.pyplot as plt"
   ]
  },
  {
   "cell_type": "code",
   "execution_count": 5,
   "metadata": {},
   "outputs": [
    {
     "name": "stdout",
     "output_type": "stream",
     "text": [
      "0. to stop enter data\n",
      "1. to enter the test_size\n",
      "enter ur choice::1\n",
      "enter the test_size::0.2\n",
      "enter ur choice::1\n",
      "enter the test_size::0.3\n",
      "enter ur choice::1\n",
      "enter the test_size::0.4\n",
      "enter ur choice::1\n",
      "enter the test_size::0.5\n",
      "enter ur choice::1\n",
      "enter the test_size::0.6\n",
      "enter ur choice::0\n",
      "enter the value of k::4\n"
     ]
    },
    {
     "data": {
      "image/png": "[encoded data removed]",
      "text/plain": [
       "<Figure size 432x288 with 1 Axes>"
      ]
     },
     "metadata": {},
     "output_type": "display_data"
    }
   ],
   "source": [
    "menu=\"0. to stop enter data\\n\"+\"1. to enter the test_size\"\n",
    "print(menu)\n",
    "xx=True\n",
    "testSize=[]\n",
    "while xx==True:\n",
    "    choice=int(input(\"enter ur choice::\"))\n",
    "    if choice==0:\n",
    "        break\n",
    "    else :\n",
    "        test=float(input(\"enter the test_size::\"))\n",
    "        testSize.append(test)\n",
    "\n",
    "# enter the value of k for knn algorithm\n",
    "k_value=int(input(\"enter the value of k::\"))\n",
    "\n",
    "\n",
    "#loading iris \n",
    "iris=datasets.load_iris()\n",
    "\n",
    "#loading data\n",
    "data=iris.data\n",
    "\n",
    "#loading target\n",
    "target=iris.target\n",
    "\n",
    "#calling decision tree classifier\n",
    "\n",
    "clf=tree.DecisionTreeClassifier()\n",
    "\n",
    "#calling knn algo classifier with the given k value\n",
    "knn=KNeighborsClassifier(n_neighbors=k_value)\n",
    "\n",
    "#iris accuracy\n",
    "iris_accuracy=[]\n",
    "knn_accuracy=[]\n",
    "\n",
    "for x in range(0,len(testSize)):\n",
    "    #spliting data on the basis of test_size\n",
    "    train_data,test_data,train_target,test_target=train_test_split(data,target,test_size=testSize[x])\n",
    "    \n",
    "    #traning data\n",
    "    training_tree=clf.fit(train_data,train_target)\n",
    "    training_knn=knn.fit(train_data,train_target)\n",
    "    \n",
    "    #predicing data\n",
    "    output_tree=training_tree.predict(test_data)\n",
    "    output_knn=training_knn.predict(test_data)\n",
    "    \n",
    "    #calculating accuracy \n",
    "    \n",
    "    accuracy_calculation_tree=accuracy_score(test_target,output_tree)\n",
    "    accuracy_calculation_knn=accuracy_score(test_target,output_knn)\n",
    "    \n",
    "    #storing it in list\n",
    "    iris_accuracy.append(accuracy_calculation_tree*100)\n",
    "    knn_accuracy.append(accuracy_calculation_knn*100)\n",
    "\n",
    "plt.plot(testSize,iris_accuracy,label=\"iris dataset tree\")\n",
    "plt.plot(testSize,knn_accuracy,label=\"iris dataset KNN\")\n",
    "plt.xlabel(\"test_size\")\n",
    "plt.ylabel(\"accuracy\")\n",
    "plt.legend()\n",
    "plt.show()\n",
    "    \n",
    "#-------------------------------------------------------------------------------------------------------------------\n",
    "                            \n",
    "                                    #digits data\n",
    "\n",
    "        \n",
    "    "
   ]
  },
  {
   "cell_type": "code",
   "execution_count": null,
   "metadata": {},
   "outputs": [],
   "source": []
  }
 ],
 "metadata": {
  "kernelspec": {
   "display_name": "Python 3",
   "language": "python",
   "name": "python3"
  },
  "language_info": {
   "codemirror_mode": {
    "name": "ipython",
    "version": 3
   },
   "file_extension": ".py",
   "mimetype": "text/x-python",
   "name": "python",
   "nbconvert_exporter": "python",
   "pygments_lexer": "ipython3",
   "version": "3.5.2"
  }
 },
 "nbformat": 4,
 "nbformat_minor": 2
}
